{
 "cells": [
  {
   "cell_type": "code",
   "execution_count": 40,
   "id": "d0d739c8",
   "metadata": {},
   "outputs": [
    {
     "name": "stdout",
     "output_type": "stream",
     "text": [
      "На борту 13 % детей младше 18 лет\n",
      "Соотношение мужчин и женщин на борту составило 1.84\n"
     ]
    }
   ],
   "source": [
    "#Уровень_1 \n",
    "\n",
    "import pandas as pd\n",
    "df = pd.read_csv(r\"C:\\Users\\darfo\\Desktop\\Курс_дата_сайнтист\\Модуль_5\\ДЗ\\titanic\\train.csv\")\n",
    " \n",
    "df_child=df[df['Age']<18]\n",
    "print ('На борту',(round(100*len(df_child)/len(df))),'% детей младше 18 лет')\n",
    "\n",
    "df_w=df[df['Sex']=='female']\n",
    "df_m=df[df['Sex']=='male']\n",
    "print('Соотношение мужчин и женщин на борту составило', round((len(df_m)/len(df_w)),2))"
   ]
  },
  {
   "cell_type": "code",
   "execution_count": null,
   "id": "ba6dbb5d",
   "metadata": {},
   "outputs": [],
   "source": []
  }
 ],
 "metadata": {
  "kernelspec": {
   "display_name": "Python 3 (ipykernel)",
   "language": "python",
   "name": "python3"
  },
  "language_info": {
   "codemirror_mode": {
    "name": "ipython",
    "version": 3
   },
   "file_extension": ".py",
   "mimetype": "text/x-python",
   "name": "python",
   "nbconvert_exporter": "python",
   "pygments_lexer": "ipython3",
   "version": "3.9.13"
  }
 },
 "nbformat": 4,
 "nbformat_minor": 5
}
